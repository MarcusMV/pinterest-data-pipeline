{
 "cells": [
  {
   "cell_type": "code",
   "execution_count": null,
   "metadata": {},
   "outputs": [],
   "source": [
    "## Task 1: Cleaning info about pinterest posts to df_pin\n",
    "\n",
    "from pyspark.sql import functions as F\n",
    "\n",
    "df = read_from_s3('pin')\n",
    "\n",
    "# Convert units to numbers for follower_count\n",
    "repl_dict = {'[kK]': 'e3', '[mM]': 'e6', '[bB]': 'e9'}\n",
    "for key, val in repl_dict.items():\n",
    "    df = df.withColumn('follower_count', F.regexp_replace(F.col('follower_count'), key, val))\n",
    "\n",
    "df = df.withColumn('follower_count', F.expr('double(follower_count)'))\n",
    "df = df.withColumn('ind', F.coalesce(F.col('ind'), F.col('index')))\n",
    "df = df.drop('index')\n",
    "\n",
    "# Inlcude only file path for save_location\n",
    "df = df.withColumn('save_location', F.regexp_extract(F.col('save_location'), \"(\\/.*)\", 1))\n",
    "df = df.distinct()\n",
    "df_pin = df.select('ind', 'unique_id', 'title', 'description', 'follower_count', 'poster_name', 'tag_list', 'is_image_or_video', 'image_src', 'save_location', 'category')\n"
   ]
  }
 ],
 "metadata": {
  "language_info": {
   "name": "python"
  }
 },
 "nbformat": 4,
 "nbformat_minor": 2
}
