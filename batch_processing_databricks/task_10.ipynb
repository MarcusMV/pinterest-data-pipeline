{
 "cells": [
  {
   "cell_type": "code",
   "execution_count": null,
   "metadata": {},
   "outputs": [],
   "source": [
    "## Task 10: Find the median follower count of users based on joining year\n",
    "\n",
    "# one-to-one user to follower_count\n",
    "df_user = joined_df.dropDuplicates(['user_name'])\n",
    "\n",
    "filtered_df = df_user.withColumn('year_joined', F.year(F.col('date_joined')))\n",
    "\n",
    "window_spec_rownum = Window.partitionBy('year_joined').orderBy(F.desc('follower_count'))\n",
    "window_spec_count = Window.partitionBy('year_joined')\n",
    "\n",
    "# Apply row_number and count for users per year\n",
    "df = (filtered_df\n",
    "      .withColumn('row_number', F.row_number().over(window_spec_rownum))\n",
    "      .withColumn('total_rows', F.count('*').over(window_spec_count)))\n",
    "\n",
    "# Identify rows that contribute to the median for odd and even number of rows for each year\n",
    "df_median = df.withColumn(\n",
    "    \"is_median\",\n",
    "    F.when(\n",
    "        (F.col('total_rows') % 2 == 1) &\n",
    "        (F.col('row_number') == (F.col('total_rows') + 1) / 2), True\n",
    "    ).otherwise(\n",
    "        F.when(\n",
    "            (F.col('total_rows') % 2 == 0) &\n",
    "            ((F.col('row_number') == F.col('total_rows') / 2) |\n",
    "             (F.col('row_number') == F.col('total_rows') / 2 + 1)), True\n",
    "        ).otherwise(False)\n",
    "    )\n",
    ")\n",
    "\n",
    "# Compute median for each year\n",
    "median_result = df_median.filter(F.col('is_median')).groupBy('year_joined').agg(F.avg('follower_count').alias('median_follower_count'))\n",
    "\n",
    "display(median_result)"
   ]
  }
 ],
 "metadata": {
  "language_info": {
   "name": "python"
  }
 },
 "nbformat": 4,
 "nbformat_minor": 2
}
