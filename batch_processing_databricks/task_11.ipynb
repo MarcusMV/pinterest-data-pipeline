{
 "cells": [
  {
   "cell_type": "code",
   "execution_count": null,
   "metadata": {},
   "outputs": [],
   "source": [
    "# Task 11: Find the median follower count of users based on their joining year and age group\n",
    "\n",
    "# Create age_group and year_joined columns\n",
    "df = joined_df.withColumn('year_joined', F.year(F.col('date_joined')))\n",
    "df = df.withColumn('age_group',\n",
    "                   F.when(F.col('age').between(18, 24), '18-24')\n",
    "                   .when(F.col('age').between(25, 35), '25-35')\n",
    "                   .when(F.col('age').between(36, 50), '36-50')\n",
    "                   .otherwise('+50'))\n",
    "\n",
    "# Define window specs to partition by age_group and year_joined\n",
    "window_spec = Window.partitionBy('age_group', 'year_joined').orderBy('follower_count')\n",
    "window_spec_count = Window.partitionBy('age_group', 'year_joined')\n",
    "\n",
    "df_with_rownum = (df.withColumn('row_number', F.row_number().over(window_spec))\n",
    "                  .withColumn('total_rows', F.count('*').over(window_spec_count)))\n",
    "\n",
    "# Determine which rows correspond to median for each partition\n",
    "df_median = df_with_rownum.withColumn(\n",
    "    \"is_median\",\n",
    "    F.when(\n",
    "        (F.col(\"total_rows\") % 2 == 1) & \n",
    "        (F.col(\"row_number\") == (F.col(\"total_rows\") + 1) / 2), True\n",
    "    ).otherwise(\n",
    "        F.when(\n",
    "            (F.col(\"total_rows\") % 2 == 0) & \n",
    "            ((F.col(\"row_number\") == F.col(\"total_rows\") / 2) | \n",
    "             (F.col(\"row_number\") == (F.col(\"total_rows\") / 2) + 1)), True\n",
    "        ).otherwise(False)\n",
    "    )\n",
    ")\n",
    "\n",
    "# Calculate median\n",
    "median_result = df_median.filter(F.col('is_median')).groupBy('age_group', 'year_joined').agg(F.avg('follower_count').alias('median_follower_count'))\n",
    "\n",
    "display(median_result)"
   ]
  }
 ],
 "metadata": {
  "language_info": {
   "name": "python"
  }
 },
 "nbformat": 4,
 "nbformat_minor": 2
}
