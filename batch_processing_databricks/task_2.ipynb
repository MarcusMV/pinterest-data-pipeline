{
 "cells": [
  {
   "cell_type": "code",
   "execution_count": null,
   "metadata": {},
   "outputs": [],
   "source": [
    "## Task 2: Cleaning info about geolocation of posts to df_geo\n",
    "\n",
    "df = read_from_s3('geo')\n",
    "\n",
    "# Store lat and long to array in coordinates column\n",
    "df = df.withColumn('coordinates', F.array('latitude', 'longitude'))\n",
    "df = df.drop('latitude', 'longitude')\n",
    "\n",
    "# Convert to timestamp\n",
    "df = df.withColumn('timestamp', F.to_timestamp('timestamp', 'yyyy-MM-dd HH:mm:ss'))\n",
    "df = df.distinct()\n",
    "df_geo = df.select('ind', 'country', 'coordinates', 'timestamp')"
   ]
  }
 ],
 "metadata": {
  "language_info": {
   "name": "python"
  }
 },
 "nbformat": 4,
 "nbformat_minor": 2
}
