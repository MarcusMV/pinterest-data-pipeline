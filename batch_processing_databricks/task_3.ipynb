{
 "cells": [
  {
   "cell_type": "code",
   "execution_count": null,
   "metadata": {},
   "outputs": [],
   "source": [
    "## Task 3: Cleaning info about users to df_users\n",
    "\n",
    "df = read_from_s3('user')\n",
    "# concatenate first and last name to user_name col\n",
    "df = df.withColumn('user_name', concat_ws(' ', 'first_name', 'last_name'))\n",
    "df = df.drop('first_name', 'last_name')\n",
    "df = df.withColumn('date_joined', F.to_timestamp('date_joined', 'yyyy-MM-dd HH:mm:ss'))\n",
    "df = df.distinct()\n",
    "df_user = df.select('ind', 'user_name', 'age', 'date_joined')"
   ]
  }
 ],
 "metadata": {
  "language_info": {
   "name": "python"
  }
 },
 "nbformat": 4,
 "nbformat_minor": 2
}
