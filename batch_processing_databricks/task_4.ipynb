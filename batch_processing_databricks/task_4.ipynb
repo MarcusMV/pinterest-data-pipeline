{
 "cells": [
  {
   "cell_type": "code",
   "execution_count": null,
   "metadata": {},
   "outputs": [],
   "source": [
    "## Task 4: Find most popular category in each country\n",
    "\n",
    "from pyspark.sql.window import Window\n",
    "\n",
    "joined_df = df_pin.join(df_geo, 'ind', 'inner')\n",
    "\n",
    "# Group by country and category, and count occurrences of each \n",
    "grouped_df = joined_df.groupBy('country', 'category') \\\n",
    "            .agg(F.count('category').alias('category_count'))\n",
    "    \n",
    "# Define window specification\n",
    "window_spec = Window.partitionBy('country').orderBy(F.desc('category_count'))\n",
    "# Add a row number for each category within each country, order by count\n",
    "result = grouped_df.withColumn('row_number', F.row_number().over(window_spec))\n",
    "# Only keep top-ranked category for each country\n",
    "result = result.filter(F.col('row_number') == 1).drop('row_number')\n",
    "\n",
    "display(result)"
   ]
  }
 ],
 "metadata": {
  "language_info": {
   "name": "python"
  }
 },
 "nbformat": 4,
 "nbformat_minor": 2
}
