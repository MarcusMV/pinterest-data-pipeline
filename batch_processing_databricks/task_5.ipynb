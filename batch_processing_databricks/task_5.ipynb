{
 "cells": [
  {
   "cell_type": "code",
   "execution_count": null,
   "metadata": {},
   "outputs": [],
   "source": [
    "## Task 5: Find which was the most popular category in each year\n",
    "\n",
    "joined_df = df_pin.join(df_geo, 'ind', 'inner')\n",
    "\n",
    "# Group by year and category, and count occurerences of each category\n",
    "grouped_df = joined_df.groupBy(year('timestamp').alias('post_year'), 'category').agg(F.count('category').alias('category_count'))\n",
    "\n",
    "# Define window specification\n",
    "window_spec = Window.partitionBy('post_year').orderBy(F.desc('category_count'))\n",
    "\n",
    "# Add row number for each category within each year, order by count\n",
    "result = grouped_df.withColumn('row_number', F.row_number().over(window_spec))\n",
    "\n",
    "# Only keep top-ranked category for each year between 2018 to 2022\n",
    "result = result.filter(F.col('row_number') == 1).drop('row_number').filter((F.col('post_year') >= '2018') & (F.col('post_year') <= '2022'))\n",
    "\n",
    "display(result)"
   ]
  }
 ],
 "metadata": {
  "language_info": {
   "name": "python"
  }
 },
 "nbformat": 4,
 "nbformat_minor": 2
}
