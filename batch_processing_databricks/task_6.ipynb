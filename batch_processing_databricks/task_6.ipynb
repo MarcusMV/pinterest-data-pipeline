{
 "cells": [
  {
   "cell_type": "code",
   "execution_count": null,
   "metadata": {},
   "outputs": [],
   "source": [
    "## Task 6: Find the user with the most followers in each country\n",
    "\n",
    "joined_df = df_pin.join(df_user, 'ind', 'inner').join(df_geo, 'ind', 'inner')\n",
    "\n",
    "# Step 1: For each country, find the user with the most followers\n",
    "# Define window specification\n",
    "window_spec = Window.partitionBy('country').orderBy(F.desc('follower_count'))\n",
    "\n",
    "# Add row number for each post in each country\n",
    "result = joined_df.withColumn('row_number', F.row_number().over(window_spec))\n",
    "\n",
    "# Filter to only keep user_name with highest follower_count in each country\n",
    "result = result.filter(F.col('row_number') == 1).select('country', 'user_name', 'follower_count')\n",
    "\n",
    "display(result)\n"
   ]
  }
 ],
 "metadata": {
  "language_info": {
   "name": "python"
  }
 },
 "nbformat": 4,
 "nbformat_minor": 2
}
