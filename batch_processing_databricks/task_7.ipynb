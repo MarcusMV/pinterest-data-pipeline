{
 "cells": [
  {
   "cell_type": "code",
   "execution_count": null,
   "metadata": {},
   "outputs": [],
   "source": [
    "## Task 7: Find the most popular category for different age groups\n",
    "\n",
    "df = joined_df.withColumn('age_group', \n",
    "                          when((joined_df.age >= 18) & (joined_df.age <= 24), '18-24')\n",
    "                          .when((joined_df.age >= 25) & (joined_df.age <= 35), '25-35')\n",
    "                          .when((joined_df.age >= 36) & (joined_df.age <= 50), '36-50')\n",
    "                          .when(joined_df.age > 50, '+50'))\n",
    "\n",
    "# Group by age_group and category, and count occurences of each category\n",
    "grouped_df = df.groupBy('age_group', 'category').agg(F.count('category').alias('category_count'))\n",
    "\n",
    "# Define spec to partition by age_group and order by category_count\n",
    "window_spec = Window.partitionBy('age_group').orderBy(F.desc('category_count'))\n",
    "\n",
    "# Add row number for each category in each age_group\n",
    "result = grouped_df.withColumn('row_number', F.row_number().over(window_spec))\n",
    "\n",
    "# Only keep top-ranked category in each age_group\n",
    "result = result.filter(F.col('row_number') == 1).drop('row_number')\n",
    "\n",
    "display(result)"
   ]
  }
 ],
 "metadata": {
  "language_info": {
   "name": "python"
  }
 },
 "nbformat": 4,
 "nbformat_minor": 2
}
