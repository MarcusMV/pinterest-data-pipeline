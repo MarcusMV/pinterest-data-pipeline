{
 "cells": [
  {
   "cell_type": "code",
   "execution_count": null,
   "metadata": {},
   "outputs": [],
   "source": [
    "## Task 8: Find the median follower count for different age groups\n",
    "\n",
    "window_spec_rownum = Window.partitionBy('age_group').orderBy(F.desc('follower_count'))\n",
    "\n",
    "window_spec_count = Window.partitionBy('age_group')\n",
    "\n",
    "# Add row number and for each post in each age group, and get count\n",
    "result = (df.withColumn('row_number', F.row_number().over(window_spec_rownum))\n",
    "          .withColumn('total_rows', F.count('*').over(window_spec_count)))\n",
    "\n",
    "# Identify rows that contribute to the median for odd and even counts for each age_group\n",
    "df_median = result.withColumn(\n",
    "    \"is_median\",\n",
    "    F.when(\n",
    "        (F.col('total_rows') % 2 == 1) &\n",
    "        (F.col('row_number') == (F.col('total_rows') + 1) / 2), True\n",
    "    ).otherwise(\n",
    "        F.when(\n",
    "            (F.col('total_rows') % 2 == 0) &\n",
    "            ((F.col('row_number') == F.col('total_rows') / 2) |\n",
    "             (F.col('row_number') == F.col('total_rows') / 2 + 1)), True\n",
    "        ).otherwise(False)\n",
    "    )\n",
    ")\n",
    "\n",
    "# Filter rows and compute median for each age group\n",
    "df_median_filtered = df_median.filter(F.col('is_median'))\n",
    "\n",
    "median_result = df_median_filtered.groupBy('age_group').agg(F.avg('follower_count').alias('median_follower_count'))\n",
    "\n",
    "# display(df_median_filtered)\n",
    "display(median_result)"
   ]
  }
 ],
 "metadata": {
  "language_info": {
   "name": "python"
  }
 },
 "nbformat": 4,
 "nbformat_minor": 2
}
