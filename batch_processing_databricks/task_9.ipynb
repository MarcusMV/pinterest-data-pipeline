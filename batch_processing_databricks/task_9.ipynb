{
 "cells": [
  {
   "cell_type": "code",
   "execution_count": null,
   "metadata": {},
   "outputs": [],
   "source": [
    "## Task 9: Find how many users have joined each year?\n",
    "\n",
    "grouped_df = joined_df.groupBy(year('date_joined').alias('year_joined')).agg(F.countDistinct('user_name').alias('number_users_joined'))\n",
    "\n",
    "display(grouped_df)"
   ]
  }
 ],
 "metadata": {
  "language_info": {
   "name": "python"
  }
 },
 "nbformat": 4,
 "nbformat_minor": 2
}
