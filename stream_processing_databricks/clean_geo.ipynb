{
 "cells": [
  {
   "cell_type": "code",
   "execution_count": null,
   "metadata": {},
   "outputs": [],
   "source": [
    "# Clean df_geo table\n",
    "\n",
    "# Define schema for JSON data\n",
    "fields = [\n",
    "    ('ind', IntegerType()), \n",
    "    ('timestamp', TimestampType()), \n",
    "    ('latitude', FloatType()), \n",
    "    ('longitude', FloatType()), \n",
    "    ('country', StringType()), \n",
    "]\n",
    "\n",
    "schema = StructType([StructField(field[0], field[1]) for field in fields])\n",
    "\n",
    "# Parse JSON in the 'data' column\n",
    "df = df_geo.withColumn('parsed_data', from_json(col('data'), schema))\n",
    "\n",
    "# Extract individual fields from parsed_data column\n",
    "for field in fields:\n",
    "    df = df.withColumn(field[0], df.parsed_data.getField(field[0]))\n",
    "\n",
    "# Store lat and long to array in coordinates column\n",
    "df = df.withColumn('coordinates', F.array('latitude', 'longitude'))\n",
    "df = df.drop('latitude', 'longitude')\n",
    "\n",
    "df = df.distinct()\n",
    "df_geo_clean = df.select('ind', 'country', 'coordinates', 'timestamp')\n",
    "\n",
    "query_geo = write_to_delta_table(df_geo_clean, '12c5e9eb47cb_geo_table')\n",
    "# display(df_geo_clean)"
   ]
  }
 ],
 "metadata": {
  "language_info": {
   "name": "python"
  }
 },
 "nbformat": 4,
 "nbformat_minor": 2
}
